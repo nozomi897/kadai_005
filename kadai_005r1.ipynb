{
  "nbformat": 4,
  "nbformat_minor": 0,
  "metadata": {
    "colab": {
      "provenance": []
    },
    "kernelspec": {
      "name": "python3",
      "display_name": "Python 3"
    },
    "language_info": {
      "name": "python"
    }
  },
  "cells": [
    {
      "cell_type": "code",
      "source": [
        "uehen_size = 10\n",
        "sitahen_size = 20\n",
        "takasa_size = 5\n",
        "\n",
        "menseki = (uehen_size + sitahen_size) * takasa_size / 2\n",
        "print(f\"{menseki} ㎠\")"
      ],
      "metadata": {
        "id": "JSHa_g3AH46Y",
        "colab": {
          "base_uri": "https://localhost:8080/"
        },
        "outputId": "fef329fe-060d-4a61-d6cf-ff6520c8e4a9"
      },
      "execution_count": 1,
      "outputs": [
        {
          "output_type": "stream",
          "name": "stdout",
          "text": [
            "75.0 ㎠\n"
          ]
        }
      ]
    }
  ]
}