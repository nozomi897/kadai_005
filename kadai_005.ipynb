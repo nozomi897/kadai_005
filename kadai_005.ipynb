{
  "nbformat": 4,
  "nbformat_minor": 0,
  "metadata": {
    "colab": {
      "provenance": []
    },
    "kernelspec": {
      "name": "python3",
      "display_name": "Python 3"
    },
    "language_info": {
      "name": "python"
    }
  },
  "cells": [
    {
      "cell_type": "code",
      "source": [
        "uehen_size = 10\n",
        "sitahen_size = 20\n",
        "takasa_size = 5\n",
        "\n",
        "print(f\"{(uehen_size + sitahen_size) * takasa_size / 2} ㎠\")"
      ],
      "metadata": {
        "id": "JSHa_g3AH46Y",
        "colab": {
          "base_uri": "https://localhost:8080/"
        },
        "outputId": "a4e9e672-072b-4974-f68a-b0776ea0ec9c"
      },
      "execution_count": null,
      "outputs": [
        {
          "output_type": "stream",
          "name": "stdout",
          "text": [
            "75.0 ㎠\n"
          ]
        }
      ]
    }
  ]
}